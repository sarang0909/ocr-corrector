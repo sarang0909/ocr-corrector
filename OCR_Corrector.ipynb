{
  "nbformat": 4,
  "nbformat_minor": 0,
  "metadata": {
    "colab": {
      "name": "OCR_Corrector.ipynb",
      "provenance": [],
      "collapsed_sections": []
    },
    "kernelspec": {
      "name": "python3",
      "display_name": "Python 3"
    }
  },
  "cells": [
    {
      "cell_type": "code",
      "metadata": {
        "id": "dbpBzHzIrNvs",
        "colab_type": "code",
        "colab": {
          "base_uri": "https://localhost:8080/",
          "height": 224
        },
        "outputId": "ccd12372-ef79-424e-ad1c-60e7f4e7310f"
      },
      "source": [
        "!pip install python-levenshtein"
      ],
      "execution_count": 33,
      "outputs": [
        {
          "output_type": "stream",
          "text": [
            "Collecting python-levenshtein\n",
            "\u001b[?25l  Downloading https://files.pythonhosted.org/packages/42/a9/d1785c85ebf9b7dfacd08938dd028209c34a0ea3b1bcdb895208bd40a67d/python-Levenshtein-0.12.0.tar.gz (48kB)\n",
            "\r\u001b[K     |██████▊                         | 10kB 14.8MB/s eta 0:00:01\r\u001b[K     |█████████████▌                  | 20kB 1.7MB/s eta 0:00:01\r\u001b[K     |████████████████████▏           | 30kB 2.3MB/s eta 0:00:01\r\u001b[K     |███████████████████████████     | 40kB 2.6MB/s eta 0:00:01\r\u001b[K     |████████████████████████████████| 51kB 1.6MB/s \n",
            "\u001b[?25hRequirement already satisfied: setuptools in /usr/local/lib/python3.6/dist-packages (from python-levenshtein) (46.4.0)\n",
            "Building wheels for collected packages: python-levenshtein\n",
            "  Building wheel for python-levenshtein (setup.py) ... \u001b[?25l\u001b[?25hdone\n",
            "  Created wheel for python-levenshtein: filename=python_Levenshtein-0.12.0-cp36-cp36m-linux_x86_64.whl size=144800 sha256=f88431c23852620cb171361d4e02fa17bce3278429827db9809d6887073872b6\n",
            "  Stored in directory: /root/.cache/pip/wheels/de/c2/93/660fd5f7559049268ad2dc6d81c4e39e9e36518766eaf7e342\n",
            "Successfully built python-levenshtein\n",
            "Installing collected packages: python-levenshtein\n",
            "Successfully installed python-levenshtein-0.12.0\n"
          ],
          "name": "stdout"
        }
      ]
    },
    {
      "cell_type": "code",
      "metadata": {
        "id": "AxvpKS_WkVZa",
        "colab_type": "code",
        "colab": {}
      },
      "source": [
        "import os\n",
        "import re\n",
        "import Levenshtein"
      ],
      "execution_count": 0,
      "outputs": []
    },
    {
      "cell_type": "code",
      "metadata": {
        "id": "2ITwtwn4oJOU",
        "colab_type": "code",
        "colab": {}
      },
      "source": [
        "'''OCR text taken of PAN card document, Here any kind of text image can be used and any kind of OCR engine can be used.\n",
        "For tutorial sake,let's assume this OCR text is perfect/without any error '''\n",
        "good_ocr_text = '''आयकर विभाग\n",
        "भारत सरकार\n",
        "GOVT OF INDIA\n",
        "INCOME TAX DEPARTMENT\n",
        "स्थायी लेखा संख्या काई\n",
        "Permanent Account Number Card\n",
        "ABCXY1234Z\n",
        "Name\n",
        "ABCD XYZ\n",
        "father's Name\n",
        "PQRST UVW\n",
        "Applcart Sigrahre\n",
        "Date of Birth\n",
        "01/01/1975\n",
        "uSianature'''"
      ],
      "execution_count": 0,
      "outputs": []
    },
    {
      "cell_type": "code",
      "metadata": {
        "id": "th7XjGevo8Hk",
        "colab_type": "code",
        "colab": {}
      },
      "source": [
        "'''\n",
        "Methods to extract certain entities from OCR text using regular expressions\n",
        "'''\n",
        "def getPanName(text):\n",
        "    pattern='(?:Name)\\s*([a-z]*\\s*[a-z]*\\s*[a-z]*)$'\n",
        "    value = re.search(pattern, text, re.I|re.MULTILINE)\n",
        "    if value:\n",
        "        return value.group(1)\n",
        "def getPanNumber(text):\n",
        "    \n",
        "    pattern= '(?:Number Card)\\s*([a-z]{5}\\d{4}[a-z]{1})$'            \n",
        "    value = re.search(pattern, text, re.I|re.MULTILINE)\n",
        "    if value:\n",
        "        return value.group(1)"
      ],
      "execution_count": 0,
      "outputs": []
    },
    {
      "cell_type": "code",
      "metadata": {
        "id": "Y-68XXVxph9u",
        "colab_type": "code",
        "colab": {
          "base_uri": "https://localhost:8080/",
          "height": 51
        },
        "outputId": "06911969-f6fc-4329-c905-e87097f46ef7"
      },
      "source": [
        "print('Name:',getPanName(good_ocr_text))\n",
        "print('PAN No:',getPanNumber(good_ocr_text))"
      ],
      "execution_count": 74,
      "outputs": [
        {
          "output_type": "stream",
          "text": [
            "Name: ABCD XYZ\n",
            "PAN No: ABCXY1234Z\n"
          ],
          "name": "stdout"
        }
      ]
    },
    {
      "cell_type": "code",
      "metadata": {
        "id": "gjZSpnEeqBpL",
        "colab_type": "code",
        "colab": {}
      },
      "source": [
        "'''\n",
        "Now,let's assume due to some reason(image quality changed,OCR engine changed etc.) OCR text is not good\n",
        "'''\n",
        "bad_ocr_text = '''आयकर विभाग\n",
        "भारत सरकार\n",
        "GOVT OF INDIA\n",
        "INCOME TAX DEPARTMENT\n",
        "स्थायी लेखा संख्या काई\n",
        "Permanent Account Numper Card\n",
        "ABCXY1234Z\n",
        "Nane\n",
        "ABCD XYZ\n",
        "father's Nane\n",
        "PQRST UVW\n",
        "Applcart Sigrahre\n",
        "Date of Birth\n",
        "01/01/1975\n",
        "uSianature'''"
      ],
      "execution_count": 0,
      "outputs": []
    },
    {
      "cell_type": "code",
      "metadata": {
        "id": "306KrghfqSqJ",
        "colab_type": "code",
        "colab": {
          "base_uri": "https://localhost:8080/",
          "height": 51
        },
        "outputId": "ae31467f-1104-4e49-e673-8be4fa88e4df"
      },
      "source": [
        "'''\n",
        "Running same regular expressions will not give desired results\n",
        "'''\n",
        "print('Name:',getPanName(bad_ocr_text))\n",
        "print('PAN No:',getPanNumber(bad_ocr_text))"
      ],
      "execution_count": 75,
      "outputs": [
        {
          "output_type": "stream",
          "text": [
            "Name: None\n",
            "PAN No: None\n"
          ],
          "name": "stdout"
        }
      ]
    },
    {
      "cell_type": "code",
      "metadata": {
        "id": "IUfSp1FDmNko",
        "colab_type": "code",
        "colab": {}
      },
      "source": [
        "'''\n",
        "Create list of words used in regular expressions\n",
        "'''\n",
        "good_words = ['Name','Number','Card']"
      ],
      "execution_count": 0,
      "outputs": []
    },
    {
      "cell_type": "code",
      "metadata": {
        "id": "mJ0Q4OGLmNhY",
        "colab_type": "code",
        "colab": {}
      },
      "source": [
        "'''\n",
        "Method to correct bad ocr words:\n",
        "If bad OCR word matches(75% match) with any of good word then that bad OCR word should be replaced with good word\n",
        "'''\n",
        "def ocr_corrector(text,good_words):\n",
        "  corrected_text = ''\n",
        "  for sent in text.split(\"\\n\"):\n",
        "    #print(sent)\n",
        "    new_sent = []\n",
        "    for word in sent.split(\" \"):\n",
        "      if not word.lower() in good_words:\n",
        "        for gword in good_words:\n",
        "          if Levenshtein.ratio(word,gword) >= 0.75:\n",
        "            word = gword.strip()\n",
        "      new_sent.append(word)\n",
        "    corrected_text += (\" \".join(new_sent)+\"\\n\")\n",
        "  return corrected_text"
      ],
      "execution_count": 0,
      "outputs": []
    },
    {
      "cell_type": "code",
      "metadata": {
        "id": "_TscCWpEvW7r",
        "colab_type": "code",
        "colab": {}
      },
      "source": [
        "bad_ocr_text_corrected = ocr_corrector(bad_ocr_text,good_words)"
      ],
      "execution_count": 0,
      "outputs": []
    },
    {
      "cell_type": "code",
      "metadata": {
        "id": "QORmVYHEwAWY",
        "colab_type": "code",
        "colab": {
          "base_uri": "https://localhost:8080/",
          "height": 289
        },
        "outputId": "4def20c4-9db0-4e2c-a3dd-51edcfab41e3"
      },
      "source": [
        "'''\n",
        "Bad OCR words are corrected.\n",
        "Numper --> Number\n",
        "Nane --> Name\n",
        "'''\n",
        "print(bad_ocr_text_corrected)"
      ],
      "execution_count": 82,
      "outputs": [
        {
          "output_type": "stream",
          "text": [
            "आयकर विभाग\n",
            "भारत सरकार\n",
            "GOVT OF INDIA\n",
            "INCOME TAX DEPARTMENT\n",
            "स्थायी लेखा संख्या काई\n",
            "Permanent Account Number Card\n",
            "ABCXY1234Z\n",
            "Name\n",
            "ABCD XYZ\n",
            "father's Name\n",
            "PQRST UVW\n",
            "Applcart Sigrahre\n",
            "Date of Birth\n",
            "01/01/1975\n",
            "uSianature\n",
            "\n"
          ],
          "name": "stdout"
        }
      ]
    },
    {
      "cell_type": "code",
      "metadata": {
        "id": "7cAmS-wZv6ab",
        "colab_type": "code",
        "colab": {
          "base_uri": "https://localhost:8080/",
          "height": 51
        },
        "outputId": "167b80f9-5244-4974-84a8-c2dd09f1eb74"
      },
      "source": [
        "'''\n",
        "This corrected OCR will give desired results\n",
        "'''\n",
        "print('Name:',getPanName(bad_ocr_text_corrected))\n",
        "print('PAN No:',getPanNumber(bad_ocr_text_corrected))"
      ],
      "execution_count": 83,
      "outputs": [
        {
          "output_type": "stream",
          "text": [
            "Name: ABCD XYZ\n",
            "PAN No: ABCXY1234Z\n"
          ],
          "name": "stdout"
        }
      ]
    },
    {
      "cell_type": "code",
      "metadata": {
        "id": "C2V5Gg-BmNYS",
        "colab_type": "code",
        "colab": {}
      },
      "source": [
        ""
      ],
      "execution_count": 0,
      "outputs": []
    }
  ]
}